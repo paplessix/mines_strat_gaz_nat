{
 "cells": [
  {
   "cell_type": "markdown",
   "metadata": {
    "slideshow": {
     "slide_type": "slide"
    }
   },
   "source": [
    "# Modèle de valorisation marché des stockages de gaz naturel \n",
    "\n",
    "#### _S. Partarrieu, Pa. Plessix, Y. Tchouboukoff_\n",
    "##### Encadrant : _P. Abiven_\n",
    "UE 22 - Python \n",
    "<center> <img src='img/e_cube.jpg' width = 100><img src='img/Mines_paristech-PSL.png' width = 300 align = center></center>"
   ]
  },
  {
   "cell_type": "markdown",
   "metadata": {
    "slideshow": {
     "slide_type": "slide"
    }
   },
   "source": [
    "### Plan de l'étude\n",
    "\n",
    "1. Le problème du stockage du gaz naturel\n",
    "\n",
    "2. Scraping\n",
    "\n",
    "3. Modèle de diffusion\n",
    "\n",
    "4. Optimisation de l'utilisation du stockage"
   ]
  },
  {
   "cell_type": "markdown",
   "metadata": {
    "slideshow": {
     "slide_type": "slide"
    }
   },
   "source": [
    "### Le circuit du gaz naturel \n",
    "<br/>\n",
    "\n",
    "<center> <img src='img/circuit_gaz.png'></center>"
   ]
  },
  {
   "cell_type": "markdown",
   "metadata": {
    "slideshow": {
     "slide_type": "notes"
    }
   },
   "source": [
    "### Posture\n",
    "\n",
    "Création d'un outil d'information et d'aide à la décision pour la **valorisation** d'un stockage.\n",
    "\n",
    "- Etude du process de bout en bout\n",
    "- Stratégie de gestion (achats reventes) optimale étant donné un scénario de prix connu à l'avance (perfect foresight)"
   ]
  },
  {
   "cell_type": "markdown",
   "metadata": {
    "slideshow": {
     "slide_type": "subslide"
    }
   },
   "source": [
    "### Plan d'attaque\n",
    "<br/>\n",
    "<center> <img src='img/plan.png'></center>"
   ]
  },
  {
   "cell_type": "markdown",
   "metadata": {
    "slideshow": {
     "slide_type": "slide"
    }
   },
   "source": [
    "### Web Scraper\n",
    "\n",
    "- A partir du site Powernext. ( Opérateur de Marché ) \n",
    "- **Problème majeur** : rien d'enregistré sur le DOM !\n",
    "- Utilisation du module _Selenium_.\n",
    "\n",
    "- Base de données construite par itération.\n",
    "\n",
    "- Problème EventListener.\n"
   ]
  },
  {
   "cell_type": "markdown",
   "metadata": {
    "slideshow": {
     "slide_type": "subslide"
    }
   },
   "source": [
    "#### Prix forward - Facile ...\n",
    "<br/>\n",
    "<center> <img src='img/ex_future.png' ></center>"
   ]
  },
  {
   "cell_type": "markdown",
   "metadata": {
    "slideshow": {
     "slide_type": "subslide"
    }
   },
   "source": [
    "#### Prix spot - Ca se corse ... \n",
    "\n",
    "<br/>\n",
    "<center> <img src='img/ex_spot.png' ></center>"
   ]
  },
  {
   "cell_type": "code",
   "execution_count": 1,
   "metadata": {
    "slideshow": {
     "slide_type": "fragment"
    }
   },
   "outputs": [
    {
     "name": "stdout",
     "output_type": "stream",
     "text": [
      "['./strat_gaz/scrap/last_save/forward_p_th_NBP.csv', './strat_gaz/scrap/last_save/forward_p_th_PVB.csv', './strat_gaz/scrap/last_save/forward_p_th_ZEE.csv', './strat_gaz/scrap/last_save/forward_p_th_ZTP.csv', './strat_gaz/scrap/last_save/forward_€_MWh_CEGH_VTP.csv', './strat_gaz/scrap/last_save/forward_€_MWh_CZ_VTP.csv', './strat_gaz/scrap/last_save/forward_€_MWh_ETF.csv', './strat_gaz/scrap/last_save/forward_€_MWh_GPL.csv', './strat_gaz/scrap/last_save/forward_€_MWh_NBP.csv', './strat_gaz/scrap/last_save/forward_€_MWh_NCG.csv', './strat_gaz/scrap/last_save/forward_€_MWh_PEG.csv', './strat_gaz/scrap/last_save/forward_€_MWh_PSV.csv', './strat_gaz/scrap/last_save/forward_€_MWh_PVB.csv', './strat_gaz/scrap/last_save/forward_€_MWh_TTF.csv', './strat_gaz/scrap/last_save/forward_€_MWh_ZEE.csv', './strat_gaz/scrap/last_save/forward_€_MWh_ZTP.csv', './strat_gaz/scrap/last_save/spot_€_MWh_CEGH_VTP.csv', './strat_gaz/scrap/last_save/spot_€_MWh_CZ_VTP.csv', './strat_gaz/scrap/last_save/spot_€_MWh_ETF.csv', './strat_gaz/scrap/last_save/spot_€_MWh_GPL.csv', './strat_gaz/scrap/last_save/spot_€_MWh_NCG.csv', './strat_gaz/scrap/last_save/spot_€_MWh_PEG.csv', './strat_gaz/scrap/last_save/spot_€_MWh_PVB.csv', './strat_gaz/scrap/last_save/spot_€_MWh_TTF.csv', './strat_gaz/scrap/last_save/spot_€_MWh_ZTP.csv']\n",
      " Loading url https://www.powernext.com/spot-market-data\n",
      "not now\n",
      "not now\n",
      "not now\n",
      "not now\n",
      "not now\n",
      " last_recorded_date 2020-07-05 00:00:00\n",
      "not now\n",
      "not now\n",
      "not now\n"
     ]
    }
   ],
   "source": [
    "! python strat_gaz/scrap/scrap_saver.py -p spot -s PEG"
   ]
  },
  {
   "cell_type": "markdown",
   "metadata": {
    "slideshow": {
     "slide_type": "slide"
    }
   },
   "source": [
    "### Diffusion de prix\n",
    "\n",
    "- Objectif : génerer des scénarios d'évolution du prix spot d'un marché de gaz naturel qui représentent les caractéristiques de ce prix (ex : saisonnalité, volatilité)\n",
    "- Données : des historiques de longue date du marché Américain + données du WebScraping\n",
    "- Implémentation : 'à la main' "
   ]
  },
  {
   "cell_type": "markdown",
   "metadata": {
    "slideshow": {
     "slide_type": "subslide"
    }
   },
   "source": [
    "#### Un peu de théorie\n",
    "\n",
    "Notations : $S(t)$ prix spot; $F(t, T)$  prix forward au temps t d'un contrat maturant au temps T\n",
    "\n",
    "Processus stochastique sous-jacent: $$  \\boxed{dS(t)^{s/w} = \\alpha^{s/w}(Y_{S}(t) - S(t)^{s/w})dt + \\sigma_{S}^{s/w}dW(t)^{s/w}}$$\n",
    "\n",
    "Paramètres : $\\alpha^{s/w}$ - retour à la moyenne ou retour au forward \n",
    "\n",
    "$Y_{S}(t)$ - Moyenne long terme ou $F(t, t+\\tau)$ avec $\\tau = 1 \\text{ mois}$\n",
    "\n",
    "$\\sigma_{S}^{s/w}dW(t)^{s/w}$ - volatilité et mouvement brownien \n"
   ]
  },
  {
   "cell_type": "markdown",
   "metadata": {
    "slideshow": {
     "slide_type": "subslide"
    }
   },
   "source": [
    "**Trois implémentations**\n",
    "- Forward fixe\n",
    "- Moyenne long terme\n",
    "- Diffusion de forward avec génération de scénarions spot chaque jour\n"
   ]
  },
  {
   "cell_type": "markdown",
   "metadata": {},
   "source": [
    "<br/>\n",
    "<center> <img src='img/diffusion_forward_fixe.png' ></center>"
   ]
  },
  {
   "cell_type": "markdown",
   "metadata": {
    "slideshow": {
     "slide_type": "subslide"
    }
   },
   "source": [
    "\n",
    "<br/>\n",
    "<center> <img src='img/diffusion_mean.png' ></center>"
   ]
  },
  {
   "cell_type": "markdown",
   "metadata": {
    "slideshow": {
     "slide_type": "subslide"
    }
   },
   "source": [
    "\n",
    "<br/>\n",
    "<center> <img src='img/diffusion_forward.png' > <img src='img/diffusion_forward_forward.png' ></center>"
   ]
  },
  {
   "cell_type": "markdown",
   "metadata": {
    "slideshow": {
     "slide_type": "slide"
    }
   },
   "source": [
    "### Optimisation de Stockage\n",
    "#### Modélisation\n",
    "\n",
    "- Paramètres\n",
    "- Contraintes\n",
    "\n",
    "\n"
   ]
  },
  {
   "cell_type": "markdown",
   "metadata": {
    "slideshow": {
     "slide_type": "subslide"
    }
   },
   "source": [
    "#### Optimisation\n",
    "\n",
    "- Pour résoudre on maximise le profit  sur toutes les stratégies possibles\n",
    "- `scipy.minimize`, méthode `SLSQP`\n",
    "\n",
    "<center><img src='img/opti_year.png' > </center>"
   ]
  },
  {
   "cell_type": "markdown",
   "metadata": {
    "slideshow": {
     "slide_type": "subslide"
    }
   },
   "source": [
    "#### Benchmark\n",
    "\n",
    "Comparaison du temps de calcul en fonction de la plage de temps considérée.\n",
    "<center><img src='img/benchmark.png' ></center>"
   ]
  },
  {
   "cell_type": "markdown",
   "metadata": {
    "slideshow": {
     "slide_type": "slide"
    }
   },
   "source": [
    "#### Conclusion\n",
    "\n",
    "Livraison d'un outil permettant de voir de bout en bout la valeur d'un stockage\n",
    "\n",
    "#### Limites : \n",
    "- Surévaluation de la valeur, car pour un trader pas de connaissance du futur. \n",
    "    - Pistes d'améliorations\n",
    "    - Raisonnement arbre de décisions (Régressions)\n",
    "    - Algorithme d'optimisation Stochastique\n",
    "    \n",
    "    \n",
    "<center><img src='img/red.png' > </center>"
   ]
  },
  {
   "cell_type": "code",
   "execution_count": null,
   "metadata": {},
   "outputs": [],
   "source": []
  },
  {
   "cell_type": "code",
   "execution_count": null,
   "metadata": {},
   "outputs": [],
   "source": []
  }
 ],
 "metadata": {
  "celltoolbar": "Slideshow",
  "kernelspec": {
   "display_name": "Python 3",
   "language": "python",
   "name": "python3"
  },
  "language_info": {
   "codemirror_mode": {
    "name": "ipython",
    "version": 3
   },
   "file_extension": ".py",
   "mimetype": "text/x-python",
   "name": "python",
   "nbconvert_exporter": "python",
   "pygments_lexer": "ipython3",
   "version": "3.7.0"
  }
 },
 "nbformat": 4,
 "nbformat_minor": 4
}
